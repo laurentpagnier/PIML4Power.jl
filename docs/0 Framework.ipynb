{
 "cells": [
  {
   "cell_type": "code",
   "execution_count": null,
   "id": "ed6de8b1",
   "metadata": {},
   "outputs": [],
   "source": [
    "using Pkg\n",
    "Pkg.activate(\"..\")\n",
    "using PIML4Power\n",
    "using Plots"
   ]
  },
  {
   "cell_type": "code",
   "execution_count": null,
   "id": "e76073d6",
   "metadata": {},
   "outputs": [],
   "source": [
    "# loading data\n",
    "data, mat, id = load_data(\"../data/test_data_set.h5\");"
   ]
  },
  {
   "cell_type": "code",
   "execution_count": null,
   "id": "3f4fda72",
   "metadata": {},
   "outputs": [],
   "source": [
    "# id consist of\n",
    "# id.pv : indices of PV buses\n",
    "# id.pq : indices of PQ buses\n",
    "# id.Nbus : number of buses in the system\n",
    "# id.slack : index of the slack bus\n",
    "# id.epsilon : list of lines\n",
    "\n",
    "println(\"$(length(id.pv)) out of the $(id.Nbus) buses are generators.\")"
   ]
  },
  {
   "cell_type": "code",
   "execution_count": null,
   "id": "8fdc4de4",
   "metadata": {},
   "outputs": [],
   "source": [
    "# data consist of \n",
    "# data.v : voltage magnitudes \n",
    "# data.th : voltage phases \n",
    "# data.p : active power injections\n",
    "# data.q : reactive power injections \n",
    "# data.b : line susceptances\n",
    "# data.g : line conductances\n",
    "# data.bsh : line susceptances\n",
    "# data.gsh : shunt conductances\n",
    "\n",
    "# Here is simple example of usage,\n",
    "s = data.p + im * data.q\n",
    "v = data.v .* exp.(im * data.th)\n",
    "\n",
    "Y = build_admittance_matrix(data.b, data.g, data.bsh, data.gsh, id.epsilon)\n",
    "s_computed = v .* conj(Y * v)\n",
    "\n",
    "# sanity check\n",
    "maximum(abs.(s - s_computed))"
   ]
  },
  {
   "cell_type": "code",
   "execution_count": null,
   "id": "cddfcd47",
   "metadata": {},
   "outputs": [],
   "source": [
    "# mat consist of different matrices used for (e.g the incidence matrice Bm)\n",
    "# For example, the differences in phase Δθ between the two ends of power lines are obtained as\n",
    "dth = mat.Bmt * data.th"
   ]
  }
 ],
 "metadata": {
  "kernelspec": {
   "display_name": "Julia 1.6.2",
   "language": "julia",
   "name": "julia-1.6"
  },
  "language_info": {
   "file_extension": ".jl",
   "mimetype": "application/julia",
   "name": "julia",
   "version": "1.6.2"
  }
 },
 "nbformat": 4,
 "nbformat_minor": 5
}
