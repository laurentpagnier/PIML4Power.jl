{
 "cells": [
  {
   "cell_type": "markdown",
   "id": "85c6067f",
   "metadata": {},
   "source": [
    "A brief theory review:\n",
    "\\begin{align}\n",
    "V \\equiv v \\, e^{i\\,\\theta}\\,,\\\\\n",
    "S \\equiv p + i\\,q\\,,\n",
    "\\end{align}\n",
    "\n",
    "then\n",
    "\\begin{equation}\n",
    "S = V \\cdot (YV)^*\\equiv V\\cdot I^*\\\\\n",
    "\\end{equation}\n",
    "Rearanging so that\n",
    "\\begin{equation}\n",
    "V = \\left[\\begin{array}{c}V_{\\rm obs}\\\\ V_{\\rm nobs} \\end{array}\\right]\\,,\n",
    "I = \\left[\\begin{array}{c}I_{\\rm obs}\\\\ I_{\\rm nobs} \\end{array}\\right]\\,,\n",
    "S = \\left[\\begin{array}{c}S_{\\rm obs}\\\\ S_{\\rm nobs} \\end{array}\\right]\\,,\n",
    "\\end{equation}\n",
    "then\n",
    "\n",
    "\\begin{equation}\n",
    "\\left[\\begin{array}{c}I_{\\rm obs}\\\\ I_{\\rm nobs} \\end{array}\\right] = \\left[\\begin{array}{cc} Y_{\\rm obs} &\\tilde Y\\\\  \\tilde Y^\\top & Y_{\\rm nobs} \\end{array}\\right] \\left[\\begin{array}{c}V_{\\rm obs}\\\\ V_{\\rm nobs} \\end{array}\\right]\n",
    "\\end{equation}\n",
    "\n",
    "\\begin{equation}\n",
    "\\underbrace{I_{\\rm obs} - \\tilde Y\\, Y_{\\rm nobs}^{-1}\\, I_{\\rm obs}}_{\\equiv I_{\\rm r}} = \\underbrace{\\Big(Y_{\\rm obs} - \\tilde Y\\, Y_{\\rm nobs}^{-1}\\, \\tilde Y^\\top\\Big)}_{\\equiv Y_{\\rm r}}V_{\\rm obs}\n",
    "\\end{equation}\n",
    "\n",
    "\\begin{equation}\n",
    "S_{\\rm r} \\equiv V_{\\rm obs}\\cdot I_{\\rm r} = V_{\\rm obs}\\cdot (Y_{\\rm r}\\,V_{\\rm obs})^* \n",
    "\\end{equation}\n",
    "And, finally,\n",
    "\\begin{equation}\n",
    "\\underbrace{S_{\\rm obs}}_\\text{what is observed} = \\underbrace{V_{\\rm obs}\\cdot (Y_{\\rm r}\\,V_{\\rm obs})^*}_\\text{what the PIML learns} + \\underbrace{V_{\\rm obs}\\cdot (\\tilde Y Y_{\\rm nobs}^{-1} I_{\\rm nobs})^*}_\\text{what the NN learns}\n",
    "\\end{equation}"
   ]
  },
  {
   "cell_type": "code",
   "execution_count": null,
   "id": "b87ca79b",
   "metadata": {},
   "outputs": [],
   "source": [
    "using Pkg\n",
    "Pkg.activate(\"..\")\n",
    "using PIML4Power\n",
    "using Flux\n",
    "using Plots"
   ]
  },
  {
   "cell_type": "code",
   "execution_count": null,
   "id": "7164c5e3",
   "metadata": {},
   "outputs": [],
   "source": [
    "# import data\n",
    "data, mat, id = load_data(\"../data/test_data_set.h5\");\n",
    "id_batch = collect(1:5:200)\n",
    "opt = ADAM(0.01)"
   ]
  },
  {
   "cell_type": "code",
   "execution_count": null,
   "id": "5ee8aaf4",
   "metadata": {},
   "outputs": [],
   "source": [
    "# perform the Kron reduction of the system\n",
    "# (will be use for comparison)\n",
    "Y = build_admittance_matrix(data.b, data.g, data.bsh,\n",
    "    data.gsh, data.epsilon)\n",
    "\n",
    "y_r, ysh_r, epsilon_r = kron_reduction(Y, id.pv, id.pq, alpha = 1E-2)\n",
    "id_r = PIML4Power.create_indices(id.pv[1], collect(1:length(id.pv)),\n",
    "    length(id.pv), epsilon_r)\n",
    "\n",
    "mat_r = PIML4Power.create_incidence_matrices(id_r);\n",
    "\n",
    "red_data = PIML4Power.SystemData(data.v[id.pv, :], data.th[id.pv, :], data.p[id.pv, :],\n",
    "    data.q[id.pv, :], epsilon_r, imag(y_r), real(y_r), imag(ysh_r), real(ysh_r));"
   ]
  },
  {
   "cell_type": "code",
   "execution_count": null,
   "id": "f04f2b1f",
   "metadata": {},
   "outputs": [],
   "source": [
    "# initialize the grid parameters\n",
    "Nline = size(id_r.epsilon, 1)\n",
    "gamma = 2 * ones(Nline)\n",
    "beta = 4 * ones(Nline)\n",
    "gsh = 1E-1 * ones(id_r.Nbus)\n",
    "bsh = 1E-1 * ones(id_r.Nbus);"
   ]
  },
  {
   "cell_type": "code",
   "execution_count": null,
   "id": "781141a0",
   "metadata": {},
   "outputs": [],
   "source": [
    "# create a NN    \n",
    "nn = Chain(Dense(2*id_r.Nbus, 100, tanh),\n",
    "    Dense(100, 100, tanh),\n",
    "    Dense(100, 100, tanh),\n",
    "    Dense(100, 100, tanh),\n",
    "    Dense(100, 2*id_r.Nbus));"
   ]
  },
  {
   "cell_type": "code",
   "execution_count": null,
   "id": "78d30f59",
   "metadata": {},
   "outputs": [],
   "source": [
    "# train the model\n",
    "Nepoch = 50000\n",
    "Ninter = 1000\n",
    "reg = 10\n",
    "logs = train_hybrid_V2S_map!(red_data, mat_r, id_r, id_batch, nn, opt,\n",
    "    PIML4Power.exp_param, beta, gamma, bsh, gsh, Ninter = Ninter,\n",
    "    Nepoch = Nepoch, reg = reg);"
   ]
  },
  {
   "cell_type": "code",
   "execution_count": null,
   "id": "11ff7bb7",
   "metadata": {
    "scrolled": true
   },
   "outputs": [],
   "source": [
    "# compute contribution of non-observed buses\n",
    "obs = id.pv\n",
    "nobs = setdiff(1:id.Nbus, obs)\n",
    "\n",
    "x = nn([data.v[obs,:]; data.th[obs,:]])\n",
    "\n",
    "p_est, q_est = PIML4Power.contribution_of_nobs_buses(Y, obs, nobs, data.th, data.v, data.p, data.q)"
   ]
  },
  {
   "cell_type": "code",
   "execution_count": null,
   "id": "e88cb6f5",
   "metadata": {},
   "outputs": [],
   "source": [
    "plot(p_est[:,end])\n",
    "plot!(x[1:id_r.Nbus,end])"
   ]
  }
 ],
 "metadata": {
  "kernelspec": {
   "display_name": "Julia 1.6.2",
   "language": "julia",
   "name": "julia-1.6"
  },
  "language_info": {
   "file_extension": ".jl",
   "mimetype": "application/julia",
   "name": "julia",
   "version": "1.6.2"
  },
  "widgets": {
   "application/vnd.jupyter.widget-state+json": {
    "state": {},
    "version_major": 1,
    "version_minor": 0
   }
  }
 },
 "nbformat": 4,
 "nbformat_minor": 5
}
