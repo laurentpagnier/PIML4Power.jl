{
 "cells": [
  {
   "cell_type": "code",
   "execution_count": null,
   "id": "b87ca79b",
   "metadata": {},
   "outputs": [],
   "source": [
    "using Pkg\n",
    "Pkg.activate(\"..\")\n",
    "using PIML4Power\n",
    "using Flux\n",
    "using Plots\n",
    "using DataFrames"
   ]
  },
  {
   "cell_type": "code",
   "execution_count": null,
   "id": "7164c5e3",
   "metadata": {},
   "outputs": [],
   "source": [
    "# import data\n",
    "data, mat, id = load_data(\"../data/test_data_set.h5\");\n",
    "id_batch = collect(1:10:200)\n",
    "opt = ADAM(0.01)"
   ]
  },
  {
   "cell_type": "code",
   "execution_count": null,
   "id": "5ee8aaf4",
   "metadata": {},
   "outputs": [],
   "source": [
    "# create all-to-all structure\n",
    "epsilon = generate_full_line_list(id.Nbus)\n",
    "\n",
    "# or create n-nearest neighbour\n",
    "#epsilon = generate_neighbour_list(data.epsilon, 5)"
   ]
  },
  {
   "cell_type": "code",
   "execution_count": null,
   "id": "f04f2b1f",
   "metadata": {},
   "outputs": [],
   "source": [
    "# initialize the grid parameters\n",
    "Nline = size(epsilon, 1)\n",
    "gamma = 2 * ones(Nline)\n",
    "beta = 4 * ones(Nline)\n",
    "gsh = 1E-1 * ones(id.Nbus)\n",
    "bsh = 1E-1 * ones(id.Nbus);"
   ]
  },
  {
   "cell_type": "code",
   "execution_count": null,
   "id": "78d30f59",
   "metadata": {},
   "outputs": [],
   "source": [
    "Nepoch = 20\n",
    "Ninter = 500\n",
    "epsilon, beta, gamma, bsh, gsh = train_n_update_V2S_map!(data, epsilon, id,\n",
    "    id_batch, opt, PIML4Power.exp_param, PIML4Power.red_param, beta, gamma,\n",
    "    bsh, gsh, Ninter = Ninter, Nepoch = Nepoch, Nsubepoch = 4000, b_thres = 0.1);"
   ]
  },
  {
   "cell_type": "code",
   "execution_count": null,
   "id": "0a454e98",
   "metadata": {},
   "outputs": [],
   "source": [
    "# first compute them from parametrization\n",
    "b, g, bsh, gsh = PIML4Power.exp_param((beta, gamma, bsh, gsh));"
   ]
  },
  {
   "cell_type": "code",
   "execution_count": null,
   "id": "5d079055",
   "metadata": {},
   "outputs": [],
   "source": [
    "# compare the lines detected by the method with the real ones\n",
    "line_id1 = data.epsilon[:,1]*1000 + data.epsilon[:,2] # here we loosely convert id1 x id2 -> id by multiply id1 by a large const\n",
    "line_id2 = epsilon[:,1]*1000 + epsilon[:,2]\n",
    "unique_line_id = sort(unique([line_id1; line_id2]))\n",
    "unique_b = [NaN for i =1:length(unique_line_id), j=1:2]\n",
    "unique_g = [NaN for i =1:length(unique_line_id), j=1:2]\n",
    "\n",
    "# populate\n",
    "for i = 1:length(unique_line_id)\n",
    "    id1 = findall(line_id1 .== unique_line_id[i])\n",
    "    id2 = findall(line_id2 .== unique_line_id[i])\n",
    "    if !isempty(id1)\n",
    "        unique_b[i, 1] = data.b[id1][1]\n",
    "        unique_g[i, 1] = data.g[id1][1]\n",
    "    end\n",
    "    if !isempty(id2)\n",
    "        unique_b[i, 2] = b[id2][1]\n",
    "        unique_g[i, 2] = g[id2][1]\n",
    "    end\n",
    "end\n",
    "\n",
    "# print as a table\n",
    "id2 = mod.(unique_line_id,1000)\n",
    "id1 = Int64.((unique_line_id - id2) / 1000)\n",
    "DataFrame(id1 = id1, id2 = id2, b = unique_b[:,2], b_ref = unique_b[:,1],\n",
    "    g = unique_g[:,2], g_ref = unique_g[:,1])"
   ]
  }
 ],
 "metadata": {
  "kernelspec": {
   "display_name": "Julia 1.6.2",
   "language": "julia",
   "name": "julia-1.6"
  },
  "language_info": {
   "file_extension": ".jl",
   "mimetype": "application/julia",
   "name": "julia",
   "version": "1.6.2"
  },
  "widgets": {
   "application/vnd.jupyter.widget-state+json": {
    "state": {},
    "version_major": 1,
    "version_minor": 0
   }
  }
 },
 "nbformat": 4,
 "nbformat_minor": 5
}
