{
 "cells": [
  {
   "cell_type": "code",
   "execution_count": null,
   "id": "ed6de8b1",
   "metadata": {},
   "outputs": [],
   "source": [
    "using Pkg\n",
    "Pkg.activate(\"..\")\n",
    "using PIML4Power\n",
    "using Flux\n",
    "using Plots"
   ]
  },
  {
   "cell_type": "code",
   "execution_count": null,
   "id": "e76073d6",
   "metadata": {},
   "outputs": [],
   "source": [
    "data, mat, id = load_data(\"../data/test_data_set.h5\");\n",
    "opt = ADAM(0.001);"
   ]
  },
  {
   "cell_type": "code",
   "execution_count": null,
   "id": "cddfcd47",
   "metadata": {},
   "outputs": [],
   "source": [
    "# initialize the parameters\n",
    "Nline = size(id.epsilon, 1)\n",
    "gamma = 2 * ones(Nline)\n",
    "    beta = 4 * ones(Nline)\n",
    "    gsh = 1E-1 * ones(id.Nbus)\n",
    "    bsh = 1E-1 * ones(id.Nbus);"
   ]
  },
  {
   "cell_type": "code",
   "execution_count": null,
   "id": "95e0a300",
   "metadata": {
    "scrolled": false
   },
   "outputs": [],
   "source": [
    "# train the model\n",
    "id_batch = collect(1:5:200)\n",
    "logs = train_V2S_map!(data, mat, id, id_batch, opt, PIML4Power.exp_param, beta,\n",
    "        gamma, bsh, gsh, Ninter = 1000, Nepoch = Int64(3E4));"
   ]
  },
  {
   "cell_type": "code",
   "execution_count": null,
   "id": "1db3b07f",
   "metadata": {},
   "outputs": [],
   "source": [
    "# compare learned grid parameters with their reference values\n",
    "\n",
    "# first compute them from parametrization\n",
    "b, g, bsh, gsh = PIML4Power.exp_param((beta, gamma, bsh, gsh));\n",
    "\n",
    "# then plot them\n",
    "plot(b, color = :blue, style = :dash) \n",
    "plot!(data.b, color = :blue, style = :solid)\n",
    "plot!(g, color = :red, style = :dash)\n",
    "plot!(data.g, color = :red, style = :solid)\n",
    "plot!(legend = false, xlabel = \"# line\", ylabel = \"susceptance / conductance [pu]\")"
   ]
  }
 ],
 "metadata": {
  "kernelspec": {
   "display_name": "Julia 1.6.1",
   "language": "julia",
   "name": "julia-1.6"
  },
  "language_info": {
   "file_extension": ".jl",
   "mimetype": "application/julia",
   "name": "julia",
   "version": "1.6.1"
  }
 },
 "nbformat": 4,
 "nbformat_minor": 5
}
