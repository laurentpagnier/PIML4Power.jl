{
 "cells": [
  {
   "cell_type": "code",
   "execution_count": null,
   "id": "a982a3a2",
   "metadata": {},
   "outputs": [],
   "source": [
    "using Pkg\n",
    "Pkg.activate(\"/home/laurent/PIML4Power.jl\")\n",
    "using PIML4Power\n",
    "using Flux\n",
    "using Plots"
   ]
  },
  {
   "cell_type": "code",
   "execution_count": null,
   "id": "27a227a2",
   "metadata": {},
   "outputs": [],
   "source": [
    "# import data\n",
    "cn = \"14\"\n",
    "data, mat, id = load_data(\"/home/laurent/Dropbox/Research/PIML Julia/data/dataset_\" * cn * \"_case_3.h5\");\n",
    "#data, mat, id = load_data(\"/home/laurent/PIML4Power.jl/data/test_data_set.h5\");"
   ]
  },
  {
   "cell_type": "code",
   "execution_count": null,
   "id": "1a001806",
   "metadata": {},
   "outputs": [],
   "source": [
    "i = rand(1:id.Nbus); # select a random sample \n",
    "th, v = PIML4Power.newton_raphson_scheme(data.b, data.g, data.bsh, data.gsh,\n",
    "    data.p[id.ns,i], data.q[id.pq,i], data.v[id.pv,i], data.th[id.slack,i],\n",
    "    mat, id, Niter = 7, const_jac = false)\n",
    "\n",
    "# check if the voltage phases and magnitudes agree with the reference values\n",
    "println(sum(abs, data.th[:,i] - th))\n",
    "println(sum(abs, data.v[:,i] - v))"
   ]
  },
  {
   "cell_type": "code",
   "execution_count": null,
   "id": "5ece3b5f",
   "metadata": {},
   "outputs": [],
   "source": [
    "# The power flows in the system are obtained with\n",
    "pij, qij, pji, qji = PIML4Power.compute_power_flows(data.b, data.g, th, v, mat)\n",
    "\n",
    "# losses in the system can be obtained as\n",
    "lij = pij + pji\n",
    "\n",
    "#the total loss is\n",
    "Ltot = sum(lij)\n",
    "\n",
    "# which corresponds to \n",
    "dP = sum(data.p[:,i])\n",
    "\n",
    "println(abs(Ltot - dP))"
   ]
  },
  {
   "cell_type": "code",
   "execution_count": null,
   "id": "c2e2b544",
   "metadata": {},
   "outputs": [],
   "source": []
  }
 ],
 "metadata": {
  "kernelspec": {
   "display_name": "Julia 1.6.2",
   "language": "julia",
   "name": "julia-1.6"
  },
  "language_info": {
   "file_extension": ".jl",
   "mimetype": "application/julia",
   "name": "julia",
   "version": "1.6.2"
  }
 },
 "nbformat": 4,
 "nbformat_minor": 5
}
